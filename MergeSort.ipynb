{
  "nbformat": 4,
  "nbformat_minor": 0,
  "metadata": {
    "colab": {
      "name": "MergeSort.ipynb",
      "version": "0.3.2",
      "provenance": [],
      "collapsed_sections": [],
      "include_colab_link": true
    },
    "kernelspec": {
      "name": "python3",
      "display_name": "Python 3"
    },
    "accelerator": "GPU"
  },
  "cells": [
    {
      "cell_type": "markdown",
      "metadata": {
        "id": "view-in-github",
        "colab_type": "text"
      },
      "source": [
        "<a href=\"https://colab.research.google.com/github/debanga/Random-Colabs/blob/master/MergeSort.ipynb\" target=\"_parent\"><img src=\"https://colab.research.google.com/assets/colab-badge.svg\" alt=\"Open In Colab\"/></a>"
      ]
    },
    {
      "metadata": {
        "id": "-PfAk21C_WYd",
        "colab_type": "code",
        "colab": {
          "base_uri": "https://localhost:8080/",
          "height": 33
        },
        "outputId": "db326749-017a-4a15-e23b-03e1339d3473"
      },
      "cell_type": "code",
      "source": [
        "'''Implementation of merge sort\n",
        "'''\n",
        "\n",
        "def merge_sort(array):\n",
        "    ''' Main definition of merge sort        \n",
        "    \n",
        "    Args:\n",
        "        array: input array to be sorted\n",
        "    Returns:\n",
        "        sorted array\n",
        "    '''\n",
        "    if len(array)==0:\n",
        "        return array\n",
        "    if len(array)==1:\n",
        "        return array\n",
        "    # find middle of the input array\n",
        "    mid = int(len(array)/2)\n",
        "    # sort array in the left and right to the middle index separately\n",
        "    left = merge_sort(array[0:mid])\n",
        "    right = merge_sort(array[mid:len(array)])  \n",
        "    # merge the arrays\n",
        "    result = merge_arrays(left, right)\n",
        "    return result\n",
        "\n",
        "def merge_arrays(left_array, right_array):\n",
        "    ''' Merge two sorted arrays as a part of merge sort\n",
        "    \n",
        "    Args:\n",
        "        left_array: left sorted array\n",
        "        right_array: right sorted array\n",
        "    Returns:\n",
        "        final sorted array\n",
        "    '''\n",
        "    if len(left_array)==0:\n",
        "        return right_array\n",
        "    elif len(right_array)==0:\n",
        "        return left_array\n",
        "    result = []\n",
        "    i = 0\n",
        "    j = 0\n",
        "    while (i<len(left_array) and j<len(right_array)):\n",
        "        if left_array[i] < right_array[j]:\n",
        "            result.append(left_array[i])\n",
        "            i += 1\n",
        "        else:\n",
        "            result.append(right_array[j])\n",
        "            j += 1\n",
        "    # fill up remaining elements\n",
        "    if (i==len(left_array)):\n",
        "        for k in range(j,len(right_array)):\n",
        "            result.append(right_array[k])\n",
        "    else:\n",
        "        for k in range(i,len(left_array)):\n",
        "            result.append(left_array[k])\n",
        "    return result\n",
        "\n",
        "def main():\n",
        "    input_array = [3, 4, 9, 2, -1, 100, 1, 0, 1, 5]\n",
        "    result = merge_sort(input_array)\n",
        "    print(result)\n",
        "    \n",
        "if __name__ == \"__main__\":\n",
        "    main()\n",
        "    \n",
        "    "
      ],
      "execution_count": 48,
      "outputs": [
        {
          "output_type": "stream",
          "text": [
            "[-1, 0, 1, 1, 2, 3, 4, 5, 9, 100]\n"
          ],
          "name": "stdout"
        }
      ]
    }
  ]
}